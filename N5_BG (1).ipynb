{
  "nbformat": 4,
  "nbformat_minor": 0,
  "metadata": {
    "colab": {
      "provenance": []
    },
    "kernelspec": {
      "name": "python3",
      "display_name": "Python 3"
    },
    "language_info": {
      "name": "python"
    }
  },
  "cells": [
    {
      "cell_type": "markdown",
      "source": [
        "## ***Entrega Notebook 5***\n",
        "**Alumna** : Berenice Ballon Guado\n"
      ],
      "metadata": {
        "id": "x1FxROqxmHRf"
      }
    },
    {
      "cell_type": "markdown",
      "source": [
        "# Ejercicios para entregar\n",
        "\n",
        "1. Crear un arreglo de ceros de longitud 12\n",
        "2. Crear un arreglo de longitud 10 con ceros en todas sus posiciones y un 10 en la posición número 5\n",
        "3. Crear un arreglo que tenga los números del 10 al 49\n",
        "4. Crear una arreglo 2d de shape (3, 3) que tenga los números del 0 al 8\n",
        "5. Crear un arreglo de números aleatorios de longitud 100 y obtener su media y varianza\n",
        "6. Calcular la media de un arreglo usando np.sum\n",
        "7. Calcular la varianza de un arreglo usando np.sum y np.mean\n",
        "8. Crear un array de números aleatorios usando np.random.randn.\n"
      ],
      "metadata": {
        "id": "G43ay-bbmKIO"
      }
    },
    {
      "cell_type": "code",
      "source": [
        "# Importamos la biblioteca Numpy\n",
        "import numpy as np"
      ],
      "metadata": {
        "id": "dQVpafEkmRBF"
      },
      "execution_count": null,
      "outputs": []
    },
    {
      "cell_type": "code",
      "source": [
        "# Ejericio 1\n",
        "# Crear un arreglo de ceros de longitud 12\n",
        "arreglo1 = np.zeros(12)\n",
        "print(arreglo1)"
      ],
      "metadata": {
        "id": "Z5Wx_EzCmS43"
      },
      "execution_count": null,
      "outputs": []
    },
    {
      "cell_type": "code",
      "source": [
        "# Ejercicio 2\n",
        "# Crea un arrelgo de longitud 10 con ceros en todas las posiciones y un 10 en la posicion numero 5\n",
        "arreglo2 = np.zeros(10)\n",
        "arreglo2[4] = 10\n",
        "print(arreglo2)\n"
      ],
      "metadata": {
        "id": "7Gx12KZBmUv8"
      },
      "execution_count": null,
      "outputs": []
    },
    {
      "cell_type": "code",
      "source": [
        "# Ejercicio 3\n",
        "# Crear un arreglo que tenga los números del 10 al 49\n",
        "\n",
        "arreglo3 = np.arange(10,50)\n",
        "print(arreglo3)"
      ],
      "metadata": {
        "id": "RZ-oqNWumWMt"
      },
      "execution_count": null,
      "outputs": []
    },
    {
      "cell_type": "code",
      "source": [
        "# Ejercicio 4\n",
        "# Crear una arreglo 2d de shape (3, 3) que tenga los números del 0 al 8\n",
        "arreglo4 = np.arange(9).reshape(3,3)\n",
        "print(arreglo4)"
      ],
      "metadata": {
        "id": "BfEJybuWmYbF"
      },
      "execution_count": null,
      "outputs": []
    },
    {
      "cell_type": "code",
      "source": [
        "# Ejercicio 5\n",
        "# Crear un arreglo de números aleatorios de longitud 100 y obtener su media y varianza.\n",
        "print(\"creacion de longuitud aleatorio de 100 \")\n",
        "arreglo5 = np.random.randn(100)\n",
        "print(arreglo5)\n",
        "print ()\n",
        "print(\"creacion de media \")\n",
        "media = np.mean(arreglo5)\n",
        "print(media)\n",
        "print()\n",
        "print(\"creacion de varianza \")\n",
        "varianza = np.var(arreglo5)\n",
        "print(varianza)"
      ],
      "metadata": {
        "id": "19eRUDZAmaVd"
      },
      "execution_count": null,
      "outputs": []
    },
    {
      "cell_type": "code",
      "source": [
        "# Ejericio 6\n",
        "# Calcular la media de un arreglo usando np.sum\n",
        "\n",
        "arry = np.array([1,2,3,4,10])\n",
        "media = np.sum(arry)/len(arry) # Lo que hace len es decirme el numero de elementos que tiene el arreglo}\n",
        "#print(len(arry))\n",
        "\n",
        "print(media)\n"
      ],
      "metadata": {
        "id": "Wtaq_aPIma7e"
      },
      "execution_count": null,
      "outputs": []
    },
    {
      "cell_type": "code",
      "source": [
        "# Ejercicio7\n",
        "# Calcular la varianza de un arreglo usando np.sum y np.mean\n",
        "print(\"creacion de vianza de un arreglo usando np.sum y n.mean\")\n",
        "arreglo7 = np.array([1,2,3,4,10])\n",
        "varianza = np.sum((arreglo7-np.mean(arreglo7))**2)/len(arreglo7)\n",
        "print(varianza)\n",
        "\n",
        "# La varianza se calcula  como la sumatoria de la diferencia entre el valor original y su media , todo al cuadrado.\n",
        "# A todo eso lo debemos dividir por la cantidad de elementos menos 1\n",
        "\n",
        "arreglo7 = np.array([1,2,3,4,10])\n",
        "varianza = np.sum((arreglo7-np.mean(arreglo7))**2)/(len(arreglo7)-1)\n",
        "\n",
        "print(varianza)"
      ],
      "metadata": {
        "id": "U4wJhd6KmdWd"
      },
      "execution_count": null,
      "outputs": []
    },
    {
      "cell_type": "code",
      "source": [
        "# Ejercicio 8\n",
        "# Crear un array de números aleatorios usando np.random.randn\n",
        "print(\"creacion de un array de nuemros aaleatorios \")\n",
        "arry_aleatorio = np.random.randn(10)\n",
        "print(arry_aleatorio)\n"
      ],
      "metadata": {
        "id": "rc24L5S1md0G"
      },
      "execution_count": null,
      "outputs": []
    }
  ]
}